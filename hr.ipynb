{
  "nbformat": 4,
  "nbformat_minor": 0,
  "metadata": {
    "colab": {
      "provenance": [],
      "authorship_tag": "ABX9TyM8Mzz2BvNjQ7MGRMgC6uSu",
      "include_colab_link": true
    },
    "kernelspec": {
      "name": "python3",
      "display_name": "Python 3"
    },
    "language_info": {
      "name": "python"
    }
  },
  "cells": [
    {
      "cell_type": "markdown",
      "metadata": {
        "id": "view-in-github",
        "colab_type": "text"
      },
      "source": [
        "<a href=\"https://colab.research.google.com/github/TejaswiDeekshit03/MeowwStudyy/blob/main/hr.ipynb\" target=\"_parent\"><img src=\"https://colab.research.google.com/assets/colab-badge.svg\" alt=\"Open In Colab\"/></a>"
      ]
    },
    {
      "cell_type": "code",
      "execution_count": null,
      "metadata": {
        "colab": {
          "base_uri": "https://localhost:8080/"
        },
        "id": "XK_yiFYVanuu",
        "outputId": "13f9277e-9bf0-4943-d2c1-ea94e86b599f"
      },
      "outputs": [
        {
          "output_type": "stream",
          "name": "stdout",
          "text": [
            "Enter the number of elements: 5\n",
            "1\n",
            "2\n",
            "4\n",
            "6\n",
            "5\n",
            "[1, 2, 4, 6, 5]\n"
          ]
        }
      ],
      "source": [
        "arr = []\n",
        "\n",
        "n = int(input('Enter the number of elements: '))\n",
        "\n",
        "for i in range(0,n):\n",
        "    ele= int(input())\n",
        "    arr.append(ele)\n",
        "\n",
        "print(arr)"
      ]
    },
    {
      "cell_type": "code",
      "source": [
        "def dupEle():\n",
        "    arr1 = []\n",
        "    n = int(input('Enter the number of elements: '))\n",
        "\n",
        "    for i in range(0,n):\n",
        "        ele= int(input())\n",
        "        arr1.append(ele)\n",
        "\n",
        "    print(arr1)"
      ],
      "metadata": {
        "id": "dOw-AY_ZbIaY"
      },
      "execution_count": null,
      "outputs": []
    },
    {
      "cell_type": "code",
      "source": [
        "N = int(input())\n",
        "list = []\n",
        "for i in range(1,N+1):\n",
        "    list.append([])\n",
        "    for j in range(N):\n",
        "        name = input()\n",
        "        score = float(input())\n",
        "        list[i].append(j)\n",
        "print(list)"
      ],
      "metadata": {
        "id": "ETRs8nSCc2_G"
      },
      "execution_count": null,
      "outputs": []
    },
    {
      "cell_type": "code",
      "source": [],
      "metadata": {
        "id": "-fNZOLmLAaOl"
      },
      "execution_count": null,
      "outputs": []
    }
  ]
}