{
  "nbformat": 4,
  "nbformat_minor": 0,
  "metadata": {
    "colab": {
      "provenance": [],
      "collapsed_sections": [],
      "mount_file_id": "1tpp1YXFOMaZcp-J5jdVrh5r6G9mLbjCN",
      "authorship_tag": "ABX9TyNymiKk9xdMj8OeZHhajp9z",
      "include_colab_link": true
    },
    "kernelspec": {
      "name": "python3",
      "display_name": "Python 3"
    },
    "language_info": {
      "name": "python"
    }
  },
  "cells": [
    {
      "cell_type": "markdown",
      "metadata": {
        "id": "view-in-github",
        "colab_type": "text"
      },
      "source": [
        "<a href=\"https://colab.research.google.com/github/TejaswiDeekshit03/MeowwStudyy/blob/main/MultipleRegression.ipynb\" target=\"_parent\"><img src=\"https://colab.research.google.com/assets/colab-badge.svg\" alt=\"Open In Colab\"/></a>"
      ]
    },
    {
      "cell_type": "code",
      "execution_count": 19,
      "metadata": {
        "colab": {
          "base_uri": "https://localhost:8080/"
        },
        "id": "6c0JhATYHraO",
        "outputId": "b118ee9f-194f-4a89-f764-037f5ee8a889"
      },
      "outputs": [
        {
          "output_type": "stream",
          "name": "stdout",
          "text": [
            "Profit is  [229303.96405013]\n"
          ]
        },
        {
          "output_type": "stream",
          "name": "stderr",
          "text": [
            "/usr/local/lib/python3.7/dist-packages/sklearn/base.py:451: UserWarning: X does not have valid feature names, but LinearRegression was fitted with feature names\n",
            "  \"X does not have valid feature names, but\"\n"
          ]
        }
      ],
      "source": [
        "import pandas\n",
        "from sklearn import linear_model\n",
        "\n",
        "df = pandas.read_csv(\"/content/drive/MyDrive/AICS /50_Startups.csv\")\n",
        "x1, x2,x3,x4,x5 =df[['R&D Spend', 'Administration', 'Marketing Spend', 'New York', 'California']]\n",
        "\n",
        "X = df[[x1,x2,x3,x4,x5]]\n",
        "y = df['Profit']\n",
        "\n",
        "regr = linear_model.LinearRegression()\n",
        "regr.fit(X, y)\n",
        "\n",
        "profit = regr.predict([[222300, 13000, 13000, 0,1]])\n",
        "\n",
        "print('Profit is ',profit)\n",
        "# # R&D Spend\tAdministration\tMarketing Spend\tState\tNew York\tCalifornia\tFlorida\tProfit"
      ]
    },
    {
      "cell_type": "code",
      "source": [
        "from google.colab import drive\n",
        "drive.mount('/content/drive')"
      ],
      "metadata": {
        "id": "nvGsHZWgJVJ1"
      },
      "execution_count": null,
      "outputs": []
    }
  ]
}