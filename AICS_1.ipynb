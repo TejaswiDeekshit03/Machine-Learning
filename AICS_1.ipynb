{
  "nbformat": 4,
  "nbformat_minor": 0,
  "metadata": {
    "colab": {
      "provenance": [],
      "authorship_tag": "ABX9TyMDc0ydAdOyBenPSGHFjkSr",
      "include_colab_link": true
    },
    "kernelspec": {
      "name": "python3",
      "display_name": "Python 3"
    },
    "language_info": {
      "name": "python"
    }
  },
  "cells": [
    {
      "cell_type": "markdown",
      "metadata": {
        "id": "view-in-github",
        "colab_type": "text"
      },
      "source": [
        "<a href=\"https://colab.research.google.com/github/TejaswiDeekshit03/MeowwStudyy/blob/main/AICS_1.ipynb\" target=\"_parent\"><img src=\"https://colab.research.google.com/assets/colab-badge.svg\" alt=\"Open In Colab\"/></a>"
      ]
    },
    {
      "cell_type": "code",
      "execution_count": null,
      "metadata": {
        "colab": {
          "base_uri": "https://localhost:8080/"
        },
        "id": "XjYhhtVlammV",
        "outputId": "c0992265-95e2-41e3-ac91-1a6ac757ae36"
      },
      "outputs": [
        {
          "output_type": "stream",
          "name": "stdout",
          "text": [
            "{'person1': 'Sai', 'person2': 'Manu', 'person3': 'Ishita', 'person4': 'Sanskriti', 'person5': 'Teju'}\n",
            "\n",
            "\n",
            "Sai\n",
            "\n",
            "\n",
            "dict_keys(['person1', 'person2', 'person3', 'person4', 'person5'])\n",
            "\n",
            "\n",
            "dict_values(['Sai', 'Manu', 'Ishita', 'Sanskriti', 'Teju'])\n",
            "\n",
            "\n",
            "dict_items([('person1', 'Sai'), ('person2', 'Manu'), ('person3', 'Ishita'), ('person4', 'Sanskriti'), ('person5', 'Teju')])\n",
            "\n",
            "\n",
            "{'person1': 'Sai', 'person2': 'Manu', 'person3': 'Ishita', 'person4': 'Sanskriti', 'person5': 'Harsh'}\n",
            "\n",
            "\n",
            "{'person1': 'Tejaswi', 'person2': 'Manu', 'person3': 'Ishita', 'person4': 'Sanskriti', 'person5': 'Harsh'}\n",
            "{'person1': 'Tejaswi', 'person2': 'Manu', 'person3': 'Ishita', 'person4': 'Sanskriti'}\n"
          ]
        }
      ],
      "source": [
        "dict1 = {\"person1\" : \"Sai\", \"person2\" : \"Manu\", \"person3\" : \"Ishita\", \"person4\" : \"Sanskriti\", \"person5\" : \"Teju\"}\n",
        "\n",
        "print(dict1)\n",
        "print(\"\\n\")\n",
        "print(dict1.get(\"person1\"))\n",
        "print(\"\\n\")\n",
        "print(dict1.keys())\n",
        "print(\"\\n\")\n",
        "print(dict1.values())\n",
        "print(\"\\n\")\n",
        "x = dict1.items()\n",
        "print(x)\n",
        "print(\"\\n\")\n",
        "m = dict1[\"person5\"] = 'Harsh'\n",
        "print(dict1)\n",
        "print(\"\\n\")\n",
        "n = dict1.update({\"person1\": 'Tejaswi'})\n",
        "print(dict1)\n",
        "p = dict1.pop(\"person5\")\n",
        "print(dict1)"
      ]
    },
    {
      "cell_type": "code",
      "source": [
        "a = [5,10,15,20,25,30,35,40.5]\n",
        "print(a[5])\n",
        "print(a)\n",
        "#print(a[:])\n",
        "print(\"a[0:3] = \", a[2:]) # slicing a[start: end(not including end)][0:3] 0,1,2\n",
        "print(\"a[5:] = \", a[5:])  # [start:end]"
      ],
      "metadata": {
        "id": "3JoVatyycJ2r",
        "colab": {
          "base_uri": "https://localhost:8080/"
        },
        "outputId": "50da7ac3-e838-4727-ecdf-542e79175575"
      },
      "execution_count": 1,
      "outputs": [
        {
          "output_type": "stream",
          "name": "stdout",
          "text": [
            "30\n",
            "[5, 10, 15, 20, 25, 30, 35, 40.5]\n",
            "a[0:3] =  [15, 20, 25, 30, 35, 40.5]\n",
            "a[5:] =  [30, 35, 40.5]\n"
          ]
        }
      ]
    },
    {
      "cell_type": "code",
      "source": [
        "li=[1,2,3,4,5.5,6.5,9.0,10.6]\n",
        "print(\"The length of list is:\",len(li))\n",
        "print(\"The element of list is:\",li[:])"
      ],
      "metadata": {
        "colab": {
          "base_uri": "https://localhost:8080/"
        },
        "id": "QiukUOnYCXry",
        "outputId": "b2d70100-2f1c-45d1-b1ce-ecb6027b2d35"
      },
      "execution_count": 2,
      "outputs": [
        {
          "output_type": "stream",
          "name": "stdout",
          "text": [
            "The length of list is: 8\n",
            "The element of list is: [1, 2, 3, 4, 5.5, 6.5, 9.0, 10.6]\n"
          ]
        }
      ]
    },
    {
      "cell_type": "code",
      "source": [
        "my_list = []\n",
        "print(my_list)\n",
        "\n",
        "# list of integers\n",
        "my_list = [1, 2, 3]\n",
        "print(my_list)\n",
        "\n",
        "# list with mixed data types\n",
        "my_list = [1, \"Hello\", 3.4]\n",
        "print(my_list)\n",
        "\n",
        "# nested list\n",
        "my_list = [\"mouse\", [8, 4, 6], ['a','b']]\n",
        "print(my_list)"
      ],
      "metadata": {
        "colab": {
          "base_uri": "https://localhost:8080/"
        },
        "id": "srythb8DCcWF",
        "outputId": "21feb4e4-8134-4272-846d-b9384a795031"
      },
      "execution_count": 3,
      "outputs": [
        {
          "output_type": "stream",
          "name": "stdout",
          "text": [
            "[]\n",
            "[1, 2, 3]\n",
            "[1, 'Hello', 3.4]\n",
            "['mouse', [8, 4, 6], ['a', 'b']]\n"
          ]
        }
      ]
    },
    {
      "cell_type": "code",
      "source": [
        "my_list = ['p', 'r', 'o', 'g', 'r', 'a','m']\n",
        "print(my_list[0])\n",
        "print(my_list[2])\n",
        "print(my_list[4])\n",
        "print(my_list)\n"
      ],
      "metadata": {
        "colab": {
          "base_uri": "https://localhost:8080/"
        },
        "id": "4GPv2JfSCgPh",
        "outputId": "b175f8f6-9bd0-4c95-e7a9-8adea2e8b626"
      },
      "execution_count": 4,
      "outputs": [
        {
          "output_type": "stream",
          "name": "stdout",
          "text": [
            "p\n",
            "o\n",
            "r\n",
            "['p', 'r', 'o', 'g', 'r', 'a', 'm']\n"
          ]
        }
      ]
    },
    {
      "cell_type": "code",
      "source": [],
      "metadata": {
        "id": "ZtqmcUczCnp5"
      },
      "execution_count": null,
      "outputs": []
    }
  ]
}